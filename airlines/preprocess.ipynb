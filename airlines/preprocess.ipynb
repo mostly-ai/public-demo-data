{
 "cells": [
  {
   "cell_type": "code",
   "execution_count": null,
   "id": "1e896164-518d-4e63-8b07-b7e05d0f03f3",
   "metadata": {},
   "outputs": [],
   "source": [
    "# download from https://www.kaggle.com/usdot/flight-delays\n",
    "import pandas as pd\n",
    "flights = pd.read_csv('flights.csv', low_memory=False)"
   ]
  },
  {
   "cell_type": "code",
   "execution_count": null,
   "id": "c9fbdddb-09bf-48c8-9f76-465225385ed6",
   "metadata": {},
   "outputs": [],
   "source": [
    "# sample 500k\n",
    "flights = flights.sample(n=500_000)"
   ]
  },
  {
   "cell_type": "code",
   "execution_count": null,
   "id": "124e86ef-202f-46a8-a4f9-34ce0617d4e3",
   "metadata": {},
   "outputs": [],
   "source": [
    "# convert date-parts to proper date object\n",
    "flights.insert(0, 'DATE', pd.to_datetime(flights.YEAR.astype(str) + '-' + flights.MONTH.astype(str) + '-' + flights.DAY.astype(str)))"
   ]
  },
  {
   "cell_type": "code",
   "execution_count": null,
   "id": "fcfb43eb-aa03-420d-905e-3e07abf0bee3",
   "metadata": {},
   "outputs": [],
   "source": [
    "drop_cols = ['YEAR', 'MONTH', 'DAY', 'DAY_OF_WEEK', 'FLIGHT_NUMBER', 'TAIL_NUMBER']\n",
    "keep_cols = [c for c in flights.columns if c not in drop_cols]\n",
    "flights = flights[keep_cols]\n",
    "flights"
   ]
  },
  {
   "cell_type": "code",
   "execution_count": null,
   "id": "32c0f286-fc13-4d9b-8293-95bfd932cf0f",
   "metadata": {},
   "outputs": [],
   "source": [
    "flights.to_parquet('/Users/mplatzer/github/public-demo-data/airlines/flights.parquet', index=False)"
   ]
  },
  {
   "cell_type": "code",
   "execution_count": null,
   "id": "42c4296c-8d5d-4d01-90db-7a30ca36ecca",
   "metadata": {},
   "outputs": [],
   "source": []
  }
 ],
 "metadata": {
  "kernelspec": {
   "display_name": "Python 3 (ipykernel)",
   "language": "python",
   "name": "python3"
  },
  "language_info": {
   "codemirror_mode": {
    "name": "ipython",
    "version": 3
   },
   "file_extension": ".py",
   "mimetype": "text/x-python",
   "name": "python",
   "nbconvert_exporter": "python",
   "pygments_lexer": "ipython3",
   "version": "3.9.0"
  }
 },
 "nbformat": 4,
 "nbformat_minor": 5
}
