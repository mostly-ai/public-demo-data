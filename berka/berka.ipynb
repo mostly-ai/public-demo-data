{
 "cells": [
  {
   "cell_type": "code",
   "execution_count": null,
   "id": "4b22a7b0-7320-48cc-ad23-f1c01188a58e",
   "metadata": {},
   "outputs": [],
   "source": [
    "import numpy as np\n",
    "import pandas as pd\n",
    "from pathlib import Path\n",
    "import psycopg2\n",
    "from sqlalchemy import create_engine\n",
    "\n",
    "def create_db(host, user, pwd, db_name, if_exists=\"fail\"):\n",
    "    con = psycopg2.connect(f\"postgresql://{user}:{pwd}@{host}:5432/postgres\")\n",
    "    con.autocommit = True\n",
    "    cur = con.cursor()\n",
    "    cur.execute(f\"SELECT 1 FROM pg_catalog.pg_database WHERE datname = '{db_name}'\")\n",
    "    exists = cur.fetchone()\n",
    "    if exists and if_exists == \"fail\":\n",
    "        raise Exception(f\"Database {db_name} already exists\")\n",
    "    elif exists and if_exists == \"replace\":\n",
    "        cur.execute(f\"DROP DATABASE {db_name}\")\n",
    "    cur.execute(f\"CREATE DATABASE {db_name}\")\n",
    "    con.close()\n",
    "    print(f\"created database {db_name}\")\n",
    "\n",
    "def connect_db(host, user, pwd, db_name):\n",
    "    engine = create_engine(f\"postgresql://{user}:{pwd}@{host}:5432/{db_name}\")\n",
    "    return engine"
   ]
  },
  {
   "cell_type": "code",
   "execution_count": null,
   "id": "c9313320-03cc-4511-814a-b341da25a74d",
   "metadata": {},
   "outputs": [],
   "source": [
    "host = \"XXX.rds.amazonaws.com\"\n",
    "user = \"XXX\"\n",
    "pwd = \"XXX\"\n",
    "db_name = \"berka\""
   ]
  },
  {
   "cell_type": "code",
   "execution_count": null,
   "id": "282761d9-5a50-45a7-9bea-bdd5a64479fb",
   "metadata": {},
   "outputs": [],
   "source": [
    "create_db(host, user, pwd, db_name, if_exists=\"replace\")"
   ]
  },
  {
   "cell_type": "markdown",
   "id": "6050066c-743a-471b-84df-649705616b39",
   "metadata": {},
   "source": [
    "## Write Original Data to Database"
   ]
  },
  {
   "cell_type": "code",
   "execution_count": null,
   "id": "5719efb0-f244-49fe-8cd2-3e33ff4a69c2",
   "metadata": {},
   "outputs": [],
   "source": [
    "engine = connect_db(host, user, pwd, db_name)"
   ]
  },
  {
   "cell_type": "code",
   "execution_count": null,
   "id": "f90c6ff5-59e6-43cc-a024-6e73adc36c2c",
   "metadata": {},
   "outputs": [],
   "source": [
    "csv_files = list(Path(\"data\").glob(\"*.csv\"))\n",
    "for fn in csv_files:\n",
    "    # read data from CSV into Pandas DataFrame\n",
    "    df = pd.read_csv(fn, sep=';', low_memory=False)\n",
    "    # ensure all columns are NULL-able\n",
    "    df = df.convert_dtypes()\n",
    "    # convert date columns\n",
    "    cols = [c for c in df.columns if c in ['date', 'issued']]\n",
    "    for col in cols:\n",
    "        df[col] = pd.to_datetime(df[col].astype('str').str[:6], format='%y%m%d')\n",
    "    # get filename w/o extension\n",
    "    db_table = fn.stem  \n",
    "    # write DataFrame to DB\n",
    "    df.to_sql(db_table, engine, index=False, if_exists=\"replace\")\n",
    "    print(f\"created table {db_table} with {df.shape[0]:,} records\")"
   ]
  },
  {
   "cell_type": "code",
   "execution_count": null,
   "id": "e06b533e-6db0-491f-bcf4-a13a3611fd6c",
   "metadata": {},
   "outputs": [],
   "source": [
    "engine.execute('ALTER TABLE \"client\" ADD PRIMARY KEY (client_id);')\n",
    "engine.execute('ALTER TABLE \"account\" ADD PRIMARY KEY (account_id);')\n",
    "engine.execute('ALTER TABLE \"card\" ADD PRIMARY KEY (card_id);')\n",
    "engine.execute('ALTER TABLE \"disp\" ADD PRIMARY KEY (disp_id);')\n",
    "engine.execute('ALTER TABLE \"district\" ADD PRIMARY KEY (district_id);')\n",
    "engine.execute('ALTER TABLE \"loan\" ADD PRIMARY KEY (loan_id);')\n",
    "engine.execute('ALTER TABLE \"order\" ADD PRIMARY KEY (order_id);')\n",
    "engine.execute('ALTER TABLE \"trans\" ADD PRIMARY KEY (trans_id);')\n",
    "print(f\"created primary keys for all tables\")"
   ]
  },
  {
   "cell_type": "code",
   "execution_count": null,
   "id": "d542e1a3-6c32-4757-80ee-61b5703a46bf",
   "metadata": {},
   "outputs": [],
   "source": [
    "engine.execute('ALTER TABLE \"account\" ADD CONSTRAINT fk_district FOREIGN KEY (district_id) REFERENCES district (district_id);')\n",
    "engine.execute('ALTER TABLE \"client\" ADD CONSTRAINT fk_district FOREIGN KEY (district_id) REFERENCES district (district_id);')\n",
    "\n",
    "engine.execute('ALTER TABLE \"disp\" ADD CONSTRAINT fk_client FOREIGN KEY (client_id) REFERENCES client (client_id);')\n",
    "engine.execute('ALTER TABLE \"disp\" ADD CONSTRAINT fk_account FOREIGN KEY (account_id) REFERENCES account (account_id);')\n",
    "\n",
    "engine.execute('ALTER TABLE \"card\" ADD CONSTRAINT fk_disp FOREIGN KEY (disp_id) REFERENCES disp (disp_id);')\n",
    "\n",
    "engine.execute('ALTER TABLE \"trans\" ADD CONSTRAINT fk_account FOREIGN KEY (account_id) REFERENCES account (account_id);')\n",
    "engine.execute('ALTER TABLE \"loan\" ADD CONSTRAINT fk_account FOREIGN KEY (account_id) REFERENCES account (account_id);')\n",
    "engine.execute('ALTER TABLE \"order\" ADD CONSTRAINT fk_account FOREIGN KEY (account_id) REFERENCES account (account_id);')\n",
    "print(f\"created foreign keys for all tables\")"
   ]
  }
 ],
 "metadata": {
  "kernelspec": {
   "display_name": "Python 3 (ipykernel)",
   "language": "python",
   "name": "python3"
  },
  "language_info": {
   "codemirror_mode": {
    "name": "ipython",
    "version": 3
   },
   "file_extension": ".py",
   "mimetype": "text/x-python",
   "name": "python",
   "nbconvert_exporter": "python",
   "pygments_lexer": "ipython3",
   "version": "3.9.0"
  }
 },
 "nbformat": 4,
 "nbformat_minor": 5
}
