{
 "cells": [
  {
   "cell_type": "markdown",
   "id": "e86f72f9-424e-4fd3-88f6-79dc8e662075",
   "metadata": {},
   "source": [
    "# American Community Survey (ACS) for US Census 2018"
   ]
  },
  {
   "cell_type": "code",
   "execution_count": null,
   "id": "6f08e8df-9a1d-462b-bddd-4ef37d156dcd",
   "metadata": {},
   "outputs": [],
   "source": [
    "import numpy as np\n",
    "import pandas as pd\n",
    "import re\n",
    "import folktables\n",
    "from folktables import ACSDataSource, ACSIncome, ACSEmployment, ACSHealthInsurance, ACSPublicCoverage"
   ]
  },
  {
   "cell_type": "code",
   "execution_count": null,
   "id": "a7034017-624e-4042-aa09-cc2f856e9079",
   "metadata": {},
   "outputs": [],
   "source": [
    "src = ACSDataSource(survey_year='2018', horizon='1-Year', survey='person')\n",
    "defs = src.get_definitions()"
   ]
  },
  {
   "cell_type": "code",
   "execution_count": null,
   "id": "a29d4359-7d75-4b43-84b8-eecd0a74ac0f",
   "metadata": {},
   "outputs": [],
   "source": [
    "cols = defs.groupby(1).first().reset_index().iloc[:,[0, 4]]\n",
    "cols.columns = ['code', 'label']\n",
    "cols.label = cols.label.apply(lambda x: re.sub('[ ]+[\\(\\,].*', '', x))\n",
    "cols = {row.code: row.label for _, row in cols.iterrows()}\n",
    "cols = cols | {\n",
    "    'AGEP': 'Age',\n",
    "    'COW': 'Workclass',\n",
    "    'SCHL': 'Education',\n",
    "    'MAR': 'Marital Status',\n",
    "    'OCCP': 'Occupation',\n",
    "    'WKHP': 'Hours per Week',\n",
    "    'SEX': 'Gender',\n",
    "    'RAC1P': 'Race',\n",
    "    'PINCP': 'Income',\n",
    "}"
   ]
  },
  {
   "cell_type": "markdown",
   "id": "b450b6f5-ccb4-43aa-9711-d6d15e081137",
   "metadata": {},
   "source": [
    "## Income"
   ]
  },
  {
   "cell_type": "code",
   "execution_count": null,
   "id": "37ea3dd2-da8d-4040-a506-c99d5e3b0837",
   "metadata": {},
   "outputs": [],
   "source": [
    "dfs = []\n",
    "for state in folktables.state_list:\n",
    "    data = src.get_data(states=[state])\n",
    "    cats = folktables.generate_categories(features=ACSIncome.features, definition_df=defs)\n",
    "    X_state, y_state, _ = ACSIncome.df_to_pandas(data, categories=cats)\n",
    "    df_state = pd.concat([X_state, y_state], axis=1)\n",
    "    df_state.insert(0, \"State\", state)\n",
    "    dfs.append(df_state)\n",
    "df = pd.concat(dfs, axis=0).reset_index(drop=True)\n",
    "df = df.rename(columns=cols)\n",
    "df.to_parquet('acs-income-2018.parquet', index=False)\n",
    "df"
   ]
  },
  {
   "cell_type": "markdown",
   "id": "8fb1a56d-9c87-4651-90e9-8f277f334044",
   "metadata": {},
   "source": [
    "## Employment"
   ]
  },
  {
   "cell_type": "code",
   "execution_count": null,
   "id": "652de60e-990b-40d2-83f4-ba04ff794ba6",
   "metadata": {},
   "outputs": [],
   "source": [
    "dfs = []\n",
    "src = ACSDataSource(survey_year='2018', horizon='1-Year', survey='person')\n",
    "defs = src.get_definitions()\n",
    "for state in folktables.state_list:\n",
    "    data = src.get_data(states=[state])\n",
    "    cats = folktables.generate_categories(features=ACSEmployment.features, definition_df=defs)\n",
    "    X_state, y_state, _ = ACSEmployment.df_to_pandas(data, categories=cats)\n",
    "    df_state = pd.concat([X_state, y_state], axis=1)\n",
    "    df_state.insert(0, \"State\", state)\n",
    "    dfs.append(df_state)\n",
    "df = pd.concat(dfs, axis=0).reset_index(drop=True)\n",
    "df = df.rename(columns=cols)\n",
    "df.to_parquet('acs-employment-2018.parquet', index=False)\n",
    "df"
   ]
  },
  {
   "cell_type": "markdown",
   "id": "b9b1063a-1cb8-4c68-b87f-c26f4bffb57a",
   "metadata": {},
   "source": [
    "## Public Coverage"
   ]
  },
  {
   "cell_type": "code",
   "execution_count": null,
   "id": "aca81baa-53d6-45f3-a949-aa89d7ba5cb0",
   "metadata": {},
   "outputs": [],
   "source": [
    "dfs = []\n",
    "src = ACSDataSource(survey_year='2018', horizon='1-Year', survey='person')\n",
    "defs = src.get_definitions()\n",
    "for state in folktables.state_list:\n",
    "    data = src.get_data(states=[state])\n",
    "    cats = folktables.generate_categories(features=ACSPublicCoverage.features, definition_df=defs)\n",
    "    X_state, y_state, _ = ACSPublicCoverage.df_to_pandas(data, categories=cats)\n",
    "    df_state = pd.concat([X_state, y_state], axis=1)\n",
    "    df_state.insert(0, \"state\", state)\n",
    "    dfs.append(df_state)\n",
    "df = pd.concat(dfs, axis=0).reset_index(drop=True)\n",
    "df = df.rename(columns=cols)\n",
    "df.to_parquet('acs-publiccoverage-2018.parquet', index=False)\n",
    "df"
   ]
  },
  {
   "cell_type": "code",
   "execution_count": null,
   "id": "8880d8c0-f292-4c39-9985-5e275c3eda5c",
   "metadata": {},
   "outputs": [],
   "source": []
  }
 ],
 "metadata": {
  "kernelspec": {
   "display_name": "Python 3 (ipykernel)",
   "language": "python",
   "name": "python3"
  },
  "language_info": {
   "codemirror_mode": {
    "name": "ipython",
    "version": 3
   },
   "file_extension": ".py",
   "mimetype": "text/x-python",
   "name": "python",
   "nbconvert_exporter": "python",
   "pygments_lexer": "ipython3",
   "version": "3.9.0"
  }
 },
 "nbformat": 4,
 "nbformat_minor": 5
}
